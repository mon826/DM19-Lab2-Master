{
 "cells": [
  {
   "cell_type": "markdown",
   "metadata": {},
   "source": [
    "<div style='background: #e1ff00'> <h1>Student Information</h1>  \n",
    "    \n",
    "Name: Miss Pattamon Rattanapan\n",
    "\n",
    "Student ID: 108065436\n",
    "\n",
    "GitHub ID: https://github.com/mon826\n",
    "\n",
    "Kaggle name:Username : mon826 (display name TheRicky, account ID 2514034)\n",
    "\n",
    "Kaggle private scoreboard snapshot:\n",
    "\n",
    "[Snapshot](img/pic0.png)"
   ]
  },
  {
   "cell_type": "markdown",
   "metadata": {},
   "source": [
    "---"
   ]
  },
  {
   "cell_type": "markdown",
   "metadata": {},
   "source": [
    "### Instructions"
   ]
  },
  {
   "cell_type": "markdown",
   "metadata": {},
   "source": [
    "1. First: __This part is worth 30% of your grade.__ Do the **take home** exercises in the [DM19-Lab2-Master Repo](https://github.com/EvaArevalo/DM19-Lab2-Master). You may need to copy some cells from the Lab notebook to this notebook. \n",
    "\n",
    "\n",
    "2. Second: __This part is worth 30% of your grade.__ Participate in the in-class [Kaggle Competition](https://www.kaggle.com/t/179d01d4dd984fc5ac45a894822479dd) regarding Emotion Recognition on Twitter. The scoring will be given according to your place in the Private Leaderboard ranking: \n",
    "    - **Bottom 40%**: Get 20% of the score (ie. 20% of 30% )\n",
    "\n",
    "    - **Top 41% - 100%**: Get (101-x)% of the score, where x is your ranking in the leaderboard (ie. (101-x)% of 30% )   \n",
    "    Submit your last submission __BEFORE the deadline (Nov. 23rd 11:59 pm, Saturday)__. Make sure to take a screenshot of your position at the end of the competition and store it as '''pic0.png''' under the **img** folder of this repository and rerun the cell **Student Information**.\n",
    "    \n",
    "\n",
    "3. Third: __This part is worth 30% of your grade.__ A report of your work developping the model for the competition (You can use code and comment it). This report should include what your preprocessing steps, the feature engineering steps and an explanation of your model. You can also mention different things you tried and insights you gained. \n",
    "\n",
    "\n",
    "4. Fourth: __This part is worth 10% of your grade.__ It's hard for us to follow if your code is messy :'(, so please **tidy up your notebook** and **add minimal comments where needed**.\n",
    "\n",
    "\n",
    "You can submit your homework following these guidelines: [Git Intro & How to hand your homework](https://github.com/EvaArevalo/DM19-Lab1-Master/blob/master/Git%20Intro%20%26%20How%20to%20hand%20your%20homework.ipynb), but make sure to fork the [DM19-Lab2-Homework](https://github.com/EvaArevalo/DM19-Lab2-Homework) repository this time! Also please __DON´T UPLOAD HUGE DOCUMENTS__, please use Git ignore for that.\n",
    "\n",
    "Make sure to commit and save your changes to your repository __BEFORE the deadline (Nov. 26th 11:59 pm, Tuesday)__. "
   ]
  },
  {
   "cell_type": "code",
   "execution_count": 1,
   "metadata": {},
   "outputs": [],
   "source": [
    "### Begin Assignment Here"
   ]
  },
  {
   "cell_type": "code",
   "execution_count": 2,
   "metadata": {},
   "outputs": [
    {
     "name": "stderr",
     "output_type": "stream",
     "text": [
      "[nltk_data] Downloading package stopwords to\n",
      "[nltk_data]     C:\\Users\\User\\AppData\\Roaming\\nltk_data...\n",
      "[nltk_data]   Package stopwords is already up-to-date!\n"
     ]
    }
   ],
   "source": [
    "import matplotlib.pyplot as plt\n",
    "%matplotlib inline\n",
    "import pandas as pd\n",
    "import numpy as np\n",
    "import seaborn as sns\n",
    "import plotly\n",
    "import nltk\n",
    "import os\n",
    "import math\n",
    "import string\n",
    "import plotly.graph_objects as go\n",
    "from plotly.subplots import make_subplots\n",
    "from nltk.tokenize import word_tokenize \n",
    "from nltk.corpus import stopwords \n",
    "import nltk\n",
    "nltk.download('stopwords')\n",
    "import helpers.data_mining_helpers as dmh"
   ]
  },
  {
   "cell_type": "markdown",
   "metadata": {},
   "source": [
    "## File importing & Data Preparation"
   ]
  },
  {
   "cell_type": "code",
   "execution_count": 6,
   "metadata": {},
   "outputs": [],
   "source": [
    "#imported prepared files\n",
    "totaldf = pd.read_csv(r'C:\\Users\\User\\Data Mining_NTHU\\DMlab2x\\DM19-Lab2-Homework\\Export dataset for kaggle\\totaldf.csv')\n",
    "traindf = pd.read_csv(r'C:\\Users\\User\\Data Mining_NTHU\\DMlab2x\\DM19-Lab2-Homework\\Export dataset for kaggle\\traindf.csv')\n",
    "testdf = pd.read_csv(r'C:\\Users\\User\\Data Mining_NTHU\\DMlab2x\\DM19-Lab2-Homework\\Export dataset for kaggle\\testdf.csv')\n",
    "emotiontest = pd.read_csv(r'C:\\Users\\User\\Data Mining_NTHU\\DMlab2x\\DM19-Lab2-Homework\\Export dataset for kaggle\\testresult_2.csv')"
   ]
  },
  {
   "cell_type": "code",
   "execution_count": 5,
   "metadata": {},
   "outputs": [
    {
     "data": {
      "text/html": [
       "<div>\n",
       "<style scoped>\n",
       "    .dataframe tbody tr th:only-of-type {\n",
       "        vertical-align: middle;\n",
       "    }\n",
       "\n",
       "    .dataframe tbody tr th {\n",
       "        vertical-align: top;\n",
       "    }\n",
       "\n",
       "    .dataframe thead th {\n",
       "        text-align: right;\n",
       "    }\n",
       "</style>\n",
       "<table border=\"1\" class=\"dataframe\">\n",
       "  <thead>\n",
       "    <tr style=\"text-align: right;\">\n",
       "      <th></th>\n",
       "      <th>id</th>\n",
       "      <th>emotion</th>\n",
       "    </tr>\n",
       "  </thead>\n",
       "  <tbody>\n",
       "    <tr>\n",
       "      <td>0</td>\n",
       "      <td>0x3140b1</td>\n",
       "      <td>sadness</td>\n",
       "    </tr>\n",
       "    <tr>\n",
       "      <td>1</td>\n",
       "      <td>0x368b73</td>\n",
       "      <td>disgust</td>\n",
       "    </tr>\n",
       "    <tr>\n",
       "      <td>2</td>\n",
       "      <td>0x296183</td>\n",
       "      <td>anticipation</td>\n",
       "    </tr>\n",
       "    <tr>\n",
       "      <td>3</td>\n",
       "      <td>0x2bd6e1</td>\n",
       "      <td>joy</td>\n",
       "    </tr>\n",
       "    <tr>\n",
       "      <td>4</td>\n",
       "      <td>0x2ee1dd</td>\n",
       "      <td>anticipation</td>\n",
       "    </tr>\n",
       "    <tr>\n",
       "      <td>...</td>\n",
       "      <td>...</td>\n",
       "      <td>...</td>\n",
       "    </tr>\n",
       "    <tr>\n",
       "      <td>1455558</td>\n",
       "      <td>0x38dba0</td>\n",
       "      <td>joy</td>\n",
       "    </tr>\n",
       "    <tr>\n",
       "      <td>1455559</td>\n",
       "      <td>0x300ea2</td>\n",
       "      <td>joy</td>\n",
       "    </tr>\n",
       "    <tr>\n",
       "      <td>1455560</td>\n",
       "      <td>0x360b99</td>\n",
       "      <td>fear</td>\n",
       "    </tr>\n",
       "    <tr>\n",
       "      <td>1455561</td>\n",
       "      <td>0x22eecf</td>\n",
       "      <td>joy</td>\n",
       "    </tr>\n",
       "    <tr>\n",
       "      <td>1455562</td>\n",
       "      <td>0x2fb282</td>\n",
       "      <td>anticipation</td>\n",
       "    </tr>\n",
       "  </tbody>\n",
       "</table>\n",
       "<p>1455563 rows × 2 columns</p>\n",
       "</div>"
      ],
      "text/plain": [
       "               id       emotion\n",
       "0        0x3140b1       sadness\n",
       "1        0x368b73       disgust\n",
       "2        0x296183  anticipation\n",
       "3        0x2bd6e1           joy\n",
       "4        0x2ee1dd  anticipation\n",
       "...           ...           ...\n",
       "1455558  0x38dba0           joy\n",
       "1455559  0x300ea2           joy\n",
       "1455560  0x360b99          fear\n",
       "1455561  0x22eecf           joy\n",
       "1455562  0x2fb282  anticipation\n",
       "\n",
       "[1455563 rows x 2 columns]"
      ]
     },
     "execution_count": 5,
     "metadata": {},
     "output_type": "execute_result"
    }
   ],
   "source": [
    "#Import the file emotion by using pandas\n",
    "col_Names=[\"id\", \"emotion\"]\n",
    "emotion = pd.read_csv(r'C:\\Users\\User\\Data Mining_NTHU\\DMlab2x\\DM19-Lab2-Homework\\Data for Lab2_HW\\emotion.csv', header = 0, names =col_Names)\n",
    "emotion"
   ]
  },
  {
   "cell_type": "code",
   "execution_count": 7,
   "metadata": {},
   "outputs": [
    {
     "data": {
      "text/html": [
       "<div>\n",
       "<style scoped>\n",
       "    .dataframe tbody tr th:only-of-type {\n",
       "        vertical-align: middle;\n",
       "    }\n",
       "\n",
       "    .dataframe tbody tr th {\n",
       "        vertical-align: top;\n",
       "    }\n",
       "\n",
       "    .dataframe thead th {\n",
       "        text-align: right;\n",
       "    }\n",
       "</style>\n",
       "<table border=\"1\" class=\"dataframe\">\n",
       "  <thead>\n",
       "    <tr style=\"text-align: right;\">\n",
       "      <th></th>\n",
       "      <th>id</th>\n",
       "      <th>emotion</th>\n",
       "    </tr>\n",
       "  </thead>\n",
       "  <tbody>\n",
       "    <tr>\n",
       "      <td>0</td>\n",
       "      <td>0x1c7f0f</td>\n",
       "      <td>sadness</td>\n",
       "    </tr>\n",
       "    <tr>\n",
       "      <td>1</td>\n",
       "      <td>0x1c7f12</td>\n",
       "      <td>sadness</td>\n",
       "    </tr>\n",
       "    <tr>\n",
       "      <td>2</td>\n",
       "      <td>0x1c7f13</td>\n",
       "      <td>disgust</td>\n",
       "    </tr>\n",
       "    <tr>\n",
       "      <td>3</td>\n",
       "      <td>0x1c7f17</td>\n",
       "      <td>anticipation</td>\n",
       "    </tr>\n",
       "    <tr>\n",
       "      <td>4</td>\n",
       "      <td>0x1c7f18</td>\n",
       "      <td>sadness</td>\n",
       "    </tr>\n",
       "    <tr>\n",
       "      <td>...</td>\n",
       "      <td>...</td>\n",
       "      <td>...</td>\n",
       "    </tr>\n",
       "    <tr>\n",
       "      <td>411967</td>\n",
       "      <td>0x38fe04</td>\n",
       "      <td>sadness</td>\n",
       "    </tr>\n",
       "    <tr>\n",
       "      <td>411968</td>\n",
       "      <td>0x38fe06</td>\n",
       "      <td>joy</td>\n",
       "    </tr>\n",
       "    <tr>\n",
       "      <td>411969</td>\n",
       "      <td>0x38fe13</td>\n",
       "      <td>joy</td>\n",
       "    </tr>\n",
       "    <tr>\n",
       "      <td>411970</td>\n",
       "      <td>0x38fe14</td>\n",
       "      <td>disgust</td>\n",
       "    </tr>\n",
       "    <tr>\n",
       "      <td>411971</td>\n",
       "      <td>0x38fe1b</td>\n",
       "      <td>joy</td>\n",
       "    </tr>\n",
       "  </tbody>\n",
       "</table>\n",
       "<p>411972 rows × 2 columns</p>\n",
       "</div>"
      ],
      "text/plain": [
       "              id       emotion\n",
       "0       0x1c7f0f       sadness\n",
       "1       0x1c7f12       sadness\n",
       "2       0x1c7f13       disgust\n",
       "3       0x1c7f17  anticipation\n",
       "4       0x1c7f18       sadness\n",
       "...          ...           ...\n",
       "411967  0x38fe04       sadness\n",
       "411968  0x38fe06           joy\n",
       "411969  0x38fe13           joy\n",
       "411970  0x38fe14       disgust\n",
       "411971  0x38fe1b           joy\n",
       "\n",
       "[411972 rows x 2 columns]"
      ]
     },
     "execution_count": 7,
     "metadata": {},
     "output_type": "execute_result"
    }
   ],
   "source": [
    "emotiontest"
   ]
  },
  {
   "cell_type": "code",
   "execution_count": 8,
   "metadata": {},
   "outputs": [],
   "source": [
    "#combine two emotion together\n",
    "total_emotion = pd.concat([emotion, emotiontest], ignore_index=True, sort=True)"
   ]
  },
  {
   "cell_type": "code",
   "execution_count": 9,
   "metadata": {
    "scrolled": true
   },
   "outputs": [
    {
     "data": {
      "text/html": [
       "<div>\n",
       "<style scoped>\n",
       "    .dataframe tbody tr th:only-of-type {\n",
       "        vertical-align: middle;\n",
       "    }\n",
       "\n",
       "    .dataframe tbody tr th {\n",
       "        vertical-align: top;\n",
       "    }\n",
       "\n",
       "    .dataframe thead th {\n",
       "        text-align: right;\n",
       "    }\n",
       "</style>\n",
       "<table border=\"1\" class=\"dataframe\">\n",
       "  <thead>\n",
       "    <tr style=\"text-align: right;\">\n",
       "      <th></th>\n",
       "      <th>emotion</th>\n",
       "      <th>id</th>\n",
       "    </tr>\n",
       "  </thead>\n",
       "  <tbody>\n",
       "    <tr>\n",
       "      <td>0</td>\n",
       "      <td>sadness</td>\n",
       "      <td>0x3140b1</td>\n",
       "    </tr>\n",
       "    <tr>\n",
       "      <td>1</td>\n",
       "      <td>disgust</td>\n",
       "      <td>0x368b73</td>\n",
       "    </tr>\n",
       "    <tr>\n",
       "      <td>2</td>\n",
       "      <td>anticipation</td>\n",
       "      <td>0x296183</td>\n",
       "    </tr>\n",
       "    <tr>\n",
       "      <td>3</td>\n",
       "      <td>joy</td>\n",
       "      <td>0x2bd6e1</td>\n",
       "    </tr>\n",
       "    <tr>\n",
       "      <td>4</td>\n",
       "      <td>anticipation</td>\n",
       "      <td>0x2ee1dd</td>\n",
       "    </tr>\n",
       "    <tr>\n",
       "      <td>...</td>\n",
       "      <td>...</td>\n",
       "      <td>...</td>\n",
       "    </tr>\n",
       "    <tr>\n",
       "      <td>1867530</td>\n",
       "      <td>sadness</td>\n",
       "      <td>0x38fe04</td>\n",
       "    </tr>\n",
       "    <tr>\n",
       "      <td>1867531</td>\n",
       "      <td>joy</td>\n",
       "      <td>0x38fe06</td>\n",
       "    </tr>\n",
       "    <tr>\n",
       "      <td>1867532</td>\n",
       "      <td>joy</td>\n",
       "      <td>0x38fe13</td>\n",
       "    </tr>\n",
       "    <tr>\n",
       "      <td>1867533</td>\n",
       "      <td>disgust</td>\n",
       "      <td>0x38fe14</td>\n",
       "    </tr>\n",
       "    <tr>\n",
       "      <td>1867534</td>\n",
       "      <td>joy</td>\n",
       "      <td>0x38fe1b</td>\n",
       "    </tr>\n",
       "  </tbody>\n",
       "</table>\n",
       "<p>1867535 rows × 2 columns</p>\n",
       "</div>"
      ],
      "text/plain": [
       "              emotion        id\n",
       "0             sadness  0x3140b1\n",
       "1             disgust  0x368b73\n",
       "2        anticipation  0x296183\n",
       "3                 joy  0x2bd6e1\n",
       "4        anticipation  0x2ee1dd\n",
       "...               ...       ...\n",
       "1867530       sadness  0x38fe04\n",
       "1867531           joy  0x38fe06\n",
       "1867532           joy  0x38fe13\n",
       "1867533       disgust  0x38fe14\n",
       "1867534           joy  0x38fe1b\n",
       "\n",
       "[1867535 rows x 2 columns]"
      ]
     },
     "execution_count": 9,
     "metadata": {},
     "output_type": "execute_result"
    }
   ],
   "source": [
    "total_emotion"
   ]
  },
  {
   "cell_type": "code",
   "execution_count": 24,
   "metadata": {},
   "outputs": [
    {
     "data": {
      "text/html": [
       "<div>\n",
       "<style scoped>\n",
       "    .dataframe tbody tr th:only-of-type {\n",
       "        vertical-align: middle;\n",
       "    }\n",
       "\n",
       "    .dataframe tbody tr th {\n",
       "        vertical-align: top;\n",
       "    }\n",
       "\n",
       "    .dataframe thead th {\n",
       "        text-align: right;\n",
       "    }\n",
       "</style>\n",
       "<table border=\"1\" class=\"dataframe\">\n",
       "  <thead>\n",
       "    <tr style=\"text-align: right;\">\n",
       "      <th></th>\n",
       "      <th>id</th>\n",
       "      <th>score</th>\n",
       "      <th>hashtag</th>\n",
       "      <th>text</th>\n",
       "      <th>date&amp;time</th>\n",
       "      <th>date</th>\n",
       "      <th>time</th>\n",
       "      <th>identification</th>\n",
       "    </tr>\n",
       "  </thead>\n",
       "  <tbody>\n",
       "    <tr>\n",
       "      <td>0</td>\n",
       "      <td>0x1c7f0f</td>\n",
       "      <td>62</td>\n",
       "      <td>[]</td>\n",
       "      <td>@JZED74 While inappropriate AF, he likely wasn...</td>\n",
       "      <td>2017-05-14 11:39:43</td>\n",
       "      <td>2017-05-14</td>\n",
       "      <td>11:39:43</td>\n",
       "      <td>test</td>\n",
       "    </tr>\n",
       "    <tr>\n",
       "      <td>1</td>\n",
       "      <td>0x1c7f12</td>\n",
       "      <td>756</td>\n",
       "      <td>[]</td>\n",
       "      <td>I tried to figure out why you mean so much to ...</td>\n",
       "      <td>2016-02-14 15:55:45</td>\n",
       "      <td>2016-02-14</td>\n",
       "      <td>15:55:45</td>\n",
       "      <td>test</td>\n",
       "    </tr>\n",
       "    <tr>\n",
       "      <td>2</td>\n",
       "      <td>0x1c7f13</td>\n",
       "      <td>213</td>\n",
       "      <td>['auspol', 'fizza']</td>\n",
       "      <td>The only “big plan” you ever had in your life,...</td>\n",
       "      <td>2016-07-25 17:05:35</td>\n",
       "      <td>2016-07-25</td>\n",
       "      <td>17:05:35</td>\n",
       "      <td>test</td>\n",
       "    </tr>\n",
       "    <tr>\n",
       "      <td>3</td>\n",
       "      <td>0x1c7f17</td>\n",
       "      <td>603</td>\n",
       "      <td>[]</td>\n",
       "      <td>Looking back on situations old &amp; new, recent o...</td>\n",
       "      <td>2017-01-21 19:25:33</td>\n",
       "      <td>2017-01-21</td>\n",
       "      <td>19:25:33</td>\n",
       "      <td>test</td>\n",
       "    </tr>\n",
       "    <tr>\n",
       "      <td>4</td>\n",
       "      <td>0x1c7f18</td>\n",
       "      <td>609</td>\n",
       "      <td>[]</td>\n",
       "      <td>@jasoninthehouse Why do you insist on talking ...</td>\n",
       "      <td>2017-04-25 16:36:47</td>\n",
       "      <td>2017-04-25</td>\n",
       "      <td>16:36:47</td>\n",
       "      <td>test</td>\n",
       "    </tr>\n",
       "    <tr>\n",
       "      <td>...</td>\n",
       "      <td>...</td>\n",
       "      <td>...</td>\n",
       "      <td>...</td>\n",
       "      <td>...</td>\n",
       "      <td>...</td>\n",
       "      <td>...</td>\n",
       "      <td>...</td>\n",
       "      <td>...</td>\n",
       "    </tr>\n",
       "    <tr>\n",
       "      <td>411967</td>\n",
       "      <td>0x38fe04</td>\n",
       "      <td>497</td>\n",
       "      <td>['traitor', 'treason']</td>\n",
       "      <td>\"The Grand Bargain\" The Great American Betraya...</td>\n",
       "      <td>2016-12-05 19:57:34</td>\n",
       "      <td>2016-12-05</td>\n",
       "      <td>19:57:34</td>\n",
       "      <td>test</td>\n",
       "    </tr>\n",
       "    <tr>\n",
       "      <td>411968</td>\n",
       "      <td>0x38fe06</td>\n",
       "      <td>187</td>\n",
       "      <td>['FosterCare', 'roadtoadoption', 'Adoption']</td>\n",
       "      <td>I get to be a 1 year old girl's new mama start...</td>\n",
       "      <td>2017-07-15 19:43:46</td>\n",
       "      <td>2017-07-15</td>\n",
       "      <td>19:43:46</td>\n",
       "      <td>test</td>\n",
       "    </tr>\n",
       "    <tr>\n",
       "      <td>411969</td>\n",
       "      <td>0x38fe13</td>\n",
       "      <td>139</td>\n",
       "      <td>['artworld']</td>\n",
       "      <td>Asian dude with dangly gold earrings is back &amp;...</td>\n",
       "      <td>2017-07-13 07:01:50</td>\n",
       "      <td>2017-07-13</td>\n",
       "      <td>07:01:50</td>\n",
       "      <td>test</td>\n",
       "    </tr>\n",
       "    <tr>\n",
       "      <td>411970</td>\n",
       "      <td>0x38fe14</td>\n",
       "      <td>251</td>\n",
       "      <td>['nba', 'cantmakeaJ']</td>\n",
       "      <td>I think @kostakoufos might be the worst player...</td>\n",
       "      <td>2016-08-22 22:13:06</td>\n",
       "      <td>2016-08-22</td>\n",
       "      <td>22:13:06</td>\n",
       "      <td>test</td>\n",
       "    </tr>\n",
       "    <tr>\n",
       "      <td>411971</td>\n",
       "      <td>0x38fe1b</td>\n",
       "      <td>611</td>\n",
       "      <td>[]</td>\n",
       "      <td>I told myself I'd be twitter famous. twitter m...</td>\n",
       "      <td>2016-02-14 03:24:55</td>\n",
       "      <td>2016-02-14</td>\n",
       "      <td>03:24:55</td>\n",
       "      <td>test</td>\n",
       "    </tr>\n",
       "  </tbody>\n",
       "</table>\n",
       "<p>411972 rows × 8 columns</p>\n",
       "</div>"
      ],
      "text/plain": [
       "              id  score                                       hashtag  \\\n",
       "0       0x1c7f0f     62                                            []   \n",
       "1       0x1c7f12    756                                            []   \n",
       "2       0x1c7f13    213                           ['auspol', 'fizza']   \n",
       "3       0x1c7f17    603                                            []   \n",
       "4       0x1c7f18    609                                            []   \n",
       "...          ...    ...                                           ...   \n",
       "411967  0x38fe04    497                        ['traitor', 'treason']   \n",
       "411968  0x38fe06    187  ['FosterCare', 'roadtoadoption', 'Adoption']   \n",
       "411969  0x38fe13    139                                  ['artworld']   \n",
       "411970  0x38fe14    251                         ['nba', 'cantmakeaJ']   \n",
       "411971  0x38fe1b    611                                            []   \n",
       "\n",
       "                                                     text  \\\n",
       "0       @JZED74 While inappropriate AF, he likely wasn...   \n",
       "1       I tried to figure out why you mean so much to ...   \n",
       "2       The only “big plan” you ever had in your life,...   \n",
       "3       Looking back on situations old & new, recent o...   \n",
       "4       @jasoninthehouse Why do you insist on talking ...   \n",
       "...                                                   ...   \n",
       "411967  \"The Grand Bargain\" The Great American Betraya...   \n",
       "411968  I get to be a 1 year old girl's new mama start...   \n",
       "411969  Asian dude with dangly gold earrings is back &...   \n",
       "411970  I think @kostakoufos might be the worst player...   \n",
       "411971  I told myself I'd be twitter famous. twitter m...   \n",
       "\n",
       "                  date&time        date      time identification  \n",
       "0       2017-05-14 11:39:43  2017-05-14  11:39:43           test  \n",
       "1       2016-02-14 15:55:45  2016-02-14  15:55:45           test  \n",
       "2       2016-07-25 17:05:35  2016-07-25  17:05:35           test  \n",
       "3       2017-01-21 19:25:33  2017-01-21  19:25:33           test  \n",
       "4       2017-04-25 16:36:47  2017-04-25  16:36:47           test  \n",
       "...                     ...         ...       ...            ...  \n",
       "411967  2016-12-05 19:57:34  2016-12-05  19:57:34           test  \n",
       "411968  2017-07-15 19:43:46  2017-07-15  19:43:46           test  \n",
       "411969  2017-07-13 07:01:50  2017-07-13  07:01:50           test  \n",
       "411970  2016-08-22 22:13:06  2016-08-22  22:13:06           test  \n",
       "411971  2016-02-14 03:24:55  2016-02-14  03:24:55           test  \n",
       "\n",
       "[411972 rows x 8 columns]"
      ]
     },
     "execution_count": 24,
     "metadata": {},
     "output_type": "execute_result"
    }
   ],
   "source": [
    "testdf.drop(columns = 'emotion',inplace = True)\n",
    "testdf"
   ]
  },
  {
   "cell_type": "code",
   "execution_count": 25,
   "metadata": {},
   "outputs": [],
   "source": [
    "testdf['emotion'] = testdf.apply(lambda _: '', axis=1)"
   ]
  },
  {
   "cell_type": "code",
   "execution_count": 18,
   "metadata": {},
   "outputs": [],
   "source": [
    "#Then export the file total_emotion\n",
    "\n",
    "\n",
    "total_emotion = total_emotion.to_csv (r'C:\\Users\\User\\Data Mining_NTHU\\DMlab2x\\DM19-Lab2-Homework\\total_emotion.csv', \n",
    "                               index = None, header=True) "
   ]
  },
  {
   "cell_type": "code",
   "execution_count": 11,
   "metadata": {},
   "outputs": [],
   "source": [
    "#Merge total_emotion to totaldf\n",
    "totaldf = pd.merge(totaldf, total_emotion, on='id',sort = True)"
   ]
  },
  {
   "cell_type": "code",
   "execution_count": 15,
   "metadata": {},
   "outputs": [
    {
     "data": {
      "text/plain": [
       "Index(['id', 'score', 'hashtag', 'text', 'date&time', 'date', 'time',\n",
       "       'identification', 'emotion'],\n",
       "      dtype='object')"
      ]
     },
     "execution_count": 15,
     "metadata": {},
     "output_type": "execute_result"
    }
   ],
   "source": [
    "totaldf.columns"
   ]
  },
  {
   "cell_type": "code",
   "execution_count": 12,
   "metadata": {},
   "outputs": [
    {
     "data": {
      "text/plain": [
       "emotion    (The amoung of missing records is: , 0)\n",
       "id         (The amoung of missing records is: , 0)\n",
       "dtype: object"
      ]
     },
     "execution_count": 12,
     "metadata": {},
     "output_type": "execute_result"
    }
   ],
   "source": [
    "total_emotion.isnull().apply(lambda x: dmh.check_missing_values(traindf))"
   ]
  },
  {
   "cell_type": "markdown",
   "metadata": {},
   "source": [
    "## Model: Naive Bayes"
   ]
  },
  {
   "cell_type": "code",
   "execution_count": 27,
   "metadata": {},
   "outputs": [],
   "source": [
    "#Preparing data before feeding into the vectorizer\n",
    "#by combine hastag, text and score for both test and train dataset\n",
    "traincombined = totaldf[['text','hashtag']].astype(str).apply('-'.join, axis=1)\n",
    "testcombined = testdf[['text','hashtag']].astype(str).apply('-'.join, axis=1)"
   ]
  },
  {
   "cell_type": "code",
   "execution_count": 28,
   "metadata": {},
   "outputs": [],
   "source": [
    "# Create the vectorizer \n",
    "\n",
    "from sklearn.feature_extraction.text import CountVectorizer\n",
    "from sklearn.feature_extraction.text import TfidfVectorizer\n",
    "\n",
    "count_vect = CountVectorizer(stop_words='english')\n",
    "#count_vect = TfidfVectorizer(stop_words='english',ngram_range= (1,3))"
   ]
  },
  {
   "cell_type": "code",
   "execution_count": 29,
   "metadata": {},
   "outputs": [],
   "source": [
    "train_countvec= count_vect.fit_transform(traincombined)\n",
    "test_countvec2 = count_vect.transform(testcombined)"
   ]
  },
  {
   "cell_type": "code",
   "execution_count": 30,
   "metadata": {},
   "outputs": [],
   "source": [
    "X_train = train_countvec\n",
    "y_train = totaldf['emotion']"
   ]
  },
  {
   "cell_type": "code",
   "execution_count": 31,
   "metadata": {},
   "outputs": [],
   "source": [
    "X_test = test_countvec2\n",
    "y_test = testdf['emotion']"
   ]
  },
  {
   "cell_type": "code",
   "execution_count": 32,
   "metadata": {},
   "outputs": [
    {
     "data": {
      "text/plain": [
       "0.0"
      ]
     },
     "execution_count": 32,
     "metadata": {},
     "output_type": "execute_result"
    }
   ],
   "source": [
    "#Train the model\n",
    "from sklearn.naive_bayes import MultinomialNB\n",
    "MulNB = MultinomialNB(alpha=1.0, class_prior=None, fit_prior=True)\n",
    "MulNB.fit(X_train, y_train)\n",
    "MulNB.score(X_test, y_test)"
   ]
  },
  {
   "cell_type": "code",
   "execution_count": 36,
   "metadata": {},
   "outputs": [
    {
     "data": {
      "text/plain": [
       "array(['sadness', 'sadness', 'disgust', 'anticipation', 'sadness', 'joy',\n",
       "       'sadness', 'anticipation', 'anticipation', 'anticipation'],\n",
       "      dtype='<U12')"
      ]
     },
     "execution_count": 36,
     "metadata": {},
     "output_type": "execute_result"
    }
   ],
   "source": [
    "#Test on the real data\n",
    "## build Naive Bayes model\n",
    "NV_model = MultinomialNB(alpha=1.0, fit_prior=True, class_prior=None)\n",
    "\n",
    "## training the data\n",
    "NV_model = NV_model.fit(X_train, y_train)\n",
    "\n",
    "## predict!\n",
    "y_train_pred = NV_model.predict(X_train)\n",
    "\n",
    "X_test_pred = test_countvec2\n",
    "y_test_pred = NV_model.predict(test_countvec2)\n",
    "\n",
    "## so we get the pred result\n",
    "y_test_pred[:10]"
   ]
  },
  {
   "cell_type": "code",
   "execution_count": 37,
   "metadata": {},
   "outputs": [
    {
     "name": "stdout",
     "output_type": "stream",
     "text": [
      "training accuracy: 0.7\n"
     ]
    }
   ],
   "source": [
    "## Result Evaluation /accuracy\n",
    "from sklearn.metrics import accuracy_score\n",
    "\n",
    "acc_train1 = accuracy_score(y_true=y_train, y_pred=y_train_pred)\n",
    "acc_test1 = accuracy_score(y_true=y_test, y_pred=y_test_pred)\n",
    "\n",
    "print('training accuracy: {}'.format(round(acc_train1, 2)))"
   ]
  },
  {
   "cell_type": "code",
   "execution_count": 38,
   "metadata": {},
   "outputs": [
    {
     "data": {
      "text/plain": [
       "array(['sadness', 'sadness', 'disgust', 'anticipation', 'sadness', 'joy',\n",
       "       'sadness', 'anticipation', 'anticipation', 'anticipation'],\n",
       "      dtype='<U12')"
      ]
     },
     "execution_count": 38,
     "metadata": {},
     "output_type": "execute_result"
    }
   ],
   "source": [
    "y_test_pred2 = NV_model.predict(X_test)\n",
    "y_test_pred2[:10]"
   ]
  },
  {
   "cell_type": "markdown",
   "metadata": {},
   "source": [
    "### Print the result: Naive Bayes"
   ]
  },
  {
   "cell_type": "code",
   "execution_count": 39,
   "metadata": {},
   "outputs": [
    {
     "data": {
      "text/plain": [
       "[('0x1c7f0f', 'sadness'),\n",
       " ('0x1c7f12', 'sadness'),\n",
       " ('0x1c7f13', 'disgust'),\n",
       " ('0x1c7f17', 'anticipation'),\n",
       " ('0x1c7f18', 'sadness'),\n",
       " ('0x1c7f21', 'joy'),\n",
       " ('0x1c7f24', 'sadness'),\n",
       " ('0x1c7f29', 'anticipation'),\n",
       " ('0x1c7f2d', 'anticipation'),\n",
       " ('0x1c7f32', 'anticipation')]"
      ]
     },
     "execution_count": 39,
     "metadata": {},
     "output_type": "execute_result"
    }
   ],
   "source": [
    "test_id = testdf.id\n",
    "def listOfTuples(test_id, y_test_pred2): \n",
    "    return list(map(lambda x, y:(x,y), test_id, y_test_pred2)) \n",
    "\n",
    "finalresult3 = (listOfTuples(test_id, y_test_pred2))\n",
    "finalresult3[0:10]"
   ]
  },
  {
   "cell_type": "code",
   "execution_count": 40,
   "metadata": {},
   "outputs": [
    {
     "data": {
      "text/html": [
       "<div>\n",
       "<style scoped>\n",
       "    .dataframe tbody tr th:only-of-type {\n",
       "        vertical-align: middle;\n",
       "    }\n",
       "\n",
       "    .dataframe tbody tr th {\n",
       "        vertical-align: top;\n",
       "    }\n",
       "\n",
       "    .dataframe thead th {\n",
       "        text-align: right;\n",
       "    }\n",
       "</style>\n",
       "<table border=\"1\" class=\"dataframe\">\n",
       "  <thead>\n",
       "    <tr style=\"text-align: right;\">\n",
       "      <th></th>\n",
       "      <th>0</th>\n",
       "      <th>1</th>\n",
       "    </tr>\n",
       "  </thead>\n",
       "  <tbody>\n",
       "    <tr>\n",
       "      <td>0</td>\n",
       "      <td>0x1c7f0f</td>\n",
       "      <td>sadness</td>\n",
       "    </tr>\n",
       "    <tr>\n",
       "      <td>1</td>\n",
       "      <td>0x1c7f12</td>\n",
       "      <td>sadness</td>\n",
       "    </tr>\n",
       "    <tr>\n",
       "      <td>2</td>\n",
       "      <td>0x1c7f13</td>\n",
       "      <td>disgust</td>\n",
       "    </tr>\n",
       "    <tr>\n",
       "      <td>3</td>\n",
       "      <td>0x1c7f17</td>\n",
       "      <td>anticipation</td>\n",
       "    </tr>\n",
       "    <tr>\n",
       "      <td>4</td>\n",
       "      <td>0x1c7f18</td>\n",
       "      <td>sadness</td>\n",
       "    </tr>\n",
       "    <tr>\n",
       "      <td>...</td>\n",
       "      <td>...</td>\n",
       "      <td>...</td>\n",
       "    </tr>\n",
       "    <tr>\n",
       "      <td>411967</td>\n",
       "      <td>0x38fe04</td>\n",
       "      <td>sadness</td>\n",
       "    </tr>\n",
       "    <tr>\n",
       "      <td>411968</td>\n",
       "      <td>0x38fe06</td>\n",
       "      <td>joy</td>\n",
       "    </tr>\n",
       "    <tr>\n",
       "      <td>411969</td>\n",
       "      <td>0x38fe13</td>\n",
       "      <td>joy</td>\n",
       "    </tr>\n",
       "    <tr>\n",
       "      <td>411970</td>\n",
       "      <td>0x38fe14</td>\n",
       "      <td>disgust</td>\n",
       "    </tr>\n",
       "    <tr>\n",
       "      <td>411971</td>\n",
       "      <td>0x38fe1b</td>\n",
       "      <td>joy</td>\n",
       "    </tr>\n",
       "  </tbody>\n",
       "</table>\n",
       "<p>411972 rows × 2 columns</p>\n",
       "</div>"
      ],
      "text/plain": [
       "               0             1\n",
       "0       0x1c7f0f       sadness\n",
       "1       0x1c7f12       sadness\n",
       "2       0x1c7f13       disgust\n",
       "3       0x1c7f17  anticipation\n",
       "4       0x1c7f18       sadness\n",
       "...          ...           ...\n",
       "411967  0x38fe04       sadness\n",
       "411968  0x38fe06           joy\n",
       "411969  0x38fe13           joy\n",
       "411970  0x38fe14       disgust\n",
       "411971  0x38fe1b           joy\n",
       "\n",
       "[411972 rows x 2 columns]"
      ]
     },
     "execution_count": 40,
     "metadata": {},
     "output_type": "execute_result"
    }
   ],
   "source": [
    "#Pass the result into panda dataframe and print the result to see\n",
    "dfresult3 = pd.DataFrame(finalresult3) \n",
    "dfresult3"
   ]
  },
  {
   "cell_type": "code",
   "execution_count": 41,
   "metadata": {},
   "outputs": [
    {
     "data": {
      "text/html": [
       "<div>\n",
       "<style scoped>\n",
       "    .dataframe tbody tr th:only-of-type {\n",
       "        vertical-align: middle;\n",
       "    }\n",
       "\n",
       "    .dataframe tbody tr th {\n",
       "        vertical-align: top;\n",
       "    }\n",
       "\n",
       "    .dataframe thead th {\n",
       "        text-align: right;\n",
       "    }\n",
       "</style>\n",
       "<table border=\"1\" class=\"dataframe\">\n",
       "  <thead>\n",
       "    <tr style=\"text-align: right;\">\n",
       "      <th></th>\n",
       "      <th>id</th>\n",
       "      <th>emotion</th>\n",
       "    </tr>\n",
       "  </thead>\n",
       "  <tbody>\n",
       "    <tr>\n",
       "      <td>0</td>\n",
       "      <td>0x1c7f0f</td>\n",
       "      <td>sadness</td>\n",
       "    </tr>\n",
       "    <tr>\n",
       "      <td>1</td>\n",
       "      <td>0x1c7f12</td>\n",
       "      <td>sadness</td>\n",
       "    </tr>\n",
       "    <tr>\n",
       "      <td>2</td>\n",
       "      <td>0x1c7f13</td>\n",
       "      <td>disgust</td>\n",
       "    </tr>\n",
       "    <tr>\n",
       "      <td>3</td>\n",
       "      <td>0x1c7f17</td>\n",
       "      <td>anticipation</td>\n",
       "    </tr>\n",
       "    <tr>\n",
       "      <td>4</td>\n",
       "      <td>0x1c7f18</td>\n",
       "      <td>sadness</td>\n",
       "    </tr>\n",
       "    <tr>\n",
       "      <td>...</td>\n",
       "      <td>...</td>\n",
       "      <td>...</td>\n",
       "    </tr>\n",
       "    <tr>\n",
       "      <td>411967</td>\n",
       "      <td>0x38fe04</td>\n",
       "      <td>sadness</td>\n",
       "    </tr>\n",
       "    <tr>\n",
       "      <td>411968</td>\n",
       "      <td>0x38fe06</td>\n",
       "      <td>joy</td>\n",
       "    </tr>\n",
       "    <tr>\n",
       "      <td>411969</td>\n",
       "      <td>0x38fe13</td>\n",
       "      <td>joy</td>\n",
       "    </tr>\n",
       "    <tr>\n",
       "      <td>411970</td>\n",
       "      <td>0x38fe14</td>\n",
       "      <td>disgust</td>\n",
       "    </tr>\n",
       "    <tr>\n",
       "      <td>411971</td>\n",
       "      <td>0x38fe1b</td>\n",
       "      <td>joy</td>\n",
       "    </tr>\n",
       "  </tbody>\n",
       "</table>\n",
       "<p>411972 rows × 2 columns</p>\n",
       "</div>"
      ],
      "text/plain": [
       "              id       emotion\n",
       "0       0x1c7f0f       sadness\n",
       "1       0x1c7f12       sadness\n",
       "2       0x1c7f13       disgust\n",
       "3       0x1c7f17  anticipation\n",
       "4       0x1c7f18       sadness\n",
       "...          ...           ...\n",
       "411967  0x38fe04       sadness\n",
       "411968  0x38fe06           joy\n",
       "411969  0x38fe13           joy\n",
       "411970  0x38fe14       disgust\n",
       "411971  0x38fe1b           joy\n",
       "\n",
       "[411972 rows x 2 columns]"
      ]
     },
     "execution_count": 41,
     "metadata": {},
     "output_type": "execute_result"
    }
   ],
   "source": [
    "#Then assign header names and print the data to see\n",
    "dfresult3.columns = ['id','emotion']\n",
    "dfresult3"
   ]
  },
  {
   "cell_type": "code",
   "execution_count": 43,
   "metadata": {},
   "outputs": [
    {
     "name": "stdout",
     "output_type": "stream",
     "text": [
      "              id       emotion\n",
      "0       0x1c7f0f       sadness\n",
      "1       0x1c7f12       sadness\n",
      "2       0x1c7f13       disgust\n",
      "3       0x1c7f17  anticipation\n",
      "4       0x1c7f18       sadness\n",
      "...          ...           ...\n",
      "411967  0x38fe04       sadness\n",
      "411968  0x38fe06           joy\n",
      "411969  0x38fe13           joy\n",
      "411970  0x38fe14       disgust\n",
      "411971  0x38fe1b           joy\n",
      "\n",
      "[411972 rows x 2 columns]\n"
     ]
    }
   ],
   "source": [
    "#Then export the file \n",
    "\n",
    "\n",
    "exportcsv3 = dfresult3.to_csv (r'C:\\Users\\User\\Data Mining_NTHU\\DMlab2x\\DM19-Lab2-Homework\\Dataset_Twitter_re8.csv', \n",
    "                               index = None, header=True) \n",
    "\n",
    "print (dfresult3)"
   ]
  },
  {
   "cell_type": "code",
   "execution_count": null,
   "metadata": {},
   "outputs": [],
   "source": []
  },
  {
   "cell_type": "code",
   "execution_count": null,
   "metadata": {},
   "outputs": [],
   "source": []
  },
  {
   "cell_type": "code",
   "execution_count": null,
   "metadata": {},
   "outputs": [],
   "source": []
  },
  {
   "cell_type": "code",
   "execution_count": null,
   "metadata": {},
   "outputs": [],
   "source": []
  },
  {
   "cell_type": "code",
   "execution_count": null,
   "metadata": {},
   "outputs": [],
   "source": []
  },
  {
   "cell_type": "code",
   "execution_count": null,
   "metadata": {},
   "outputs": [],
   "source": []
  },
  {
   "cell_type": "code",
   "execution_count": null,
   "metadata": {},
   "outputs": [],
   "source": []
  },
  {
   "cell_type": "code",
   "execution_count": null,
   "metadata": {},
   "outputs": [],
   "source": []
  },
  {
   "cell_type": "code",
   "execution_count": null,
   "metadata": {},
   "outputs": [],
   "source": []
  }
 ],
 "metadata": {
  "kernelspec": {
   "display_name": "Python 3",
   "language": "python",
   "name": "python3"
  },
  "language_info": {
   "codemirror_mode": {
    "name": "ipython",
    "version": 3
   },
   "file_extension": ".py",
   "mimetype": "text/x-python",
   "name": "python",
   "nbconvert_exporter": "python",
   "pygments_lexer": "ipython3",
   "version": "3.7.4"
  },
  "varInspector": {
   "cols": {
    "lenName": 16,
    "lenType": 16,
    "lenVar": 40
   },
   "kernels_config": {
    "python": {
     "delete_cmd_postfix": "",
     "delete_cmd_prefix": "del ",
     "library": "var_list.py",
     "varRefreshCmd": "print(var_dic_list())"
    },
    "r": {
     "delete_cmd_postfix": ") ",
     "delete_cmd_prefix": "rm(",
     "library": "var_list.r",
     "varRefreshCmd": "cat(var_dic_list()) "
    }
   },
   "types_to_exclude": [
    "module",
    "function",
    "builtin_function_or_method",
    "instance",
    "_Feature"
   ],
   "window_display": false
  }
 },
 "nbformat": 4,
 "nbformat_minor": 2
}
